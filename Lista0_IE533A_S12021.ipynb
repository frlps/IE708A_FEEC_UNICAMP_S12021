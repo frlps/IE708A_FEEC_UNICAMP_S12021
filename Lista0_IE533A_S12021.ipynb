{
  "nbformat": 4,
  "nbformat_minor": 0,
  "metadata": {
    "colab": {
      "name": "Lista0_IE533A_S12021.ipynb",
      "provenance": [],
      "collapsed_sections": [],
      "include_colab_link": true
    },
    "kernelspec": {
      "name": "python3",
      "display_name": "Python 3"
    },
    "language_info": {
      "name": "python"
    }
  },
  "cells": [
    {
      "cell_type": "markdown",
      "metadata": {
        "id": "view-in-github",
        "colab_type": "text"
      },
      "source": [
        "<a href=\"https://colab.research.google.com/github/frlps/IE708A_FEEC_UNICAMP_S12021/blob/main/Lista0_IE533A_S12021.ipynb\" target=\"_parent\"><img src=\"https://colab.research.google.com/assets/colab-badge.svg\" alt=\"Open In Colab\"/></a>"
      ]
    },
    {
      "cell_type": "markdown",
      "metadata": {
        "id": "aBdvhQAPvOCR"
      },
      "source": [
        "#Exercícios do capítulo de Revisão IE708A 1º Semestre de 2021"
      ]
    },
    {
      "cell_type": "markdown",
      "metadata": {
        "id": "8LyCr4LSva0o"
      },
      "source": [
        "## Exercício 1"
      ]
    },
    {
      "cell_type": "markdown",
      "metadata": {
        "id": "EpqXKgQ0vtVH"
      },
      "source": [
        "***Um usuário encontra-se em uma região tal que a probabilidade de receber um sinal \n",
        "acima de -100 dBm das estações rádio-base (ERB) A, B, e C, respectivamente, sejam 80%, \n",
        "70%, e 60%. Admita que a propagação dos sinais ocorre de forma independente.***"
      ]
    },
    {
      "cell_type": "markdown",
      "metadata": {
        "id": "I22_3ugvv6mI"
      },
      "source": [
        "### 1-A ->  Determine a probabilidade de esse usuário receber um sinal acima de -100 dB."
      ]
    },
    {
      "cell_type": "code",
      "metadata": {
        "colab": {
          "base_uri": "https://localhost:8080/"
        },
        "id": "3dEhIlwswCXQ",
        "outputId": "f2f9a7fe-81fd-4913-d7a3-810ca38b0dce"
      },
      "source": [
        "Pa=80/100\n",
        "Pb=70/100\n",
        "Pc=60/100\n",
        "Pa, Pb, Pc"
      ],
      "execution_count": 1,
      "outputs": [
        {
          "output_type": "execute_result",
          "data": {
            "text/plain": [
              "(0.8, 0.7, 0.6)"
            ]
          },
          "metadata": {
            "tags": []
          },
          "execution_count": 1
        }
      ]
    },
    {
      "cell_type": "code",
      "metadata": {
        "colab": {
          "base_uri": "https://localhost:8080/"
        },
        "id": "9Il7hNwL-tQG",
        "outputId": "6115d1c1-4300-4cf0-d91d-5b3dcdf56395"
      },
      "source": [
        "Pa_b=Pa*Pb\n",
        "Pa_c=Pa*Pc\n",
        "Pb_c=Pb*Pc\n",
        "Pa_b_c=Pa*Pb*Pc\n",
        "\n",
        "Pa_b,Pa_c,Pb_c,Pa_b_c"
      ],
      "execution_count": 2,
      "outputs": [
        {
          "output_type": "execute_result",
          "data": {
            "text/plain": [
              "(0.5599999999999999, 0.48, 0.42, 0.33599999999999997)"
            ]
          },
          "metadata": {
            "tags": []
          },
          "execution_count": 2
        }
      ]
    },
    {
      "cell_type": "code",
      "metadata": {
        "colab": {
          "base_uri": "https://localhost:8080/"
        },
        "id": "cQSpGU8CxYrG",
        "outputId": "4a211bb9-6c13-4914-d426-7d65a3376be8"
      },
      "source": [
        "Pa+Pb+Pc"
      ],
      "execution_count": 3,
      "outputs": [
        {
          "output_type": "execute_result",
          "data": {
            "text/plain": [
              "2.1"
            ]
          },
          "metadata": {
            "tags": []
          },
          "execution_count": 3
        }
      ]
    },
    {
      "cell_type": "code",
      "metadata": {
        "colab": {
          "base_uri": "https://localhost:8080/"
        },
        "id": "oEB4H4-Hxezk",
        "outputId": "9bf387e3-6d1d-4afe-858a-2b7f5489885a"
      },
      "source": [
        "Pa_b+Pa_c+Pb_c-Pa_b_c"
      ],
      "execution_count": 4,
      "outputs": [
        {
          "output_type": "execute_result",
          "data": {
            "text/plain": [
              "1.124"
            ]
          },
          "metadata": {
            "tags": []
          },
          "execution_count": 4
        }
      ]
    },
    {
      "cell_type": "markdown",
      "metadata": {
        "id": "eHfP-jCO7Zoh"
      },
      "source": [
        "Probabilidade de receber um sinal acima de 100dB é: \n",
        "\n",
        "$P(A_1 \\cup A_2) =  P(A_1)+P(A_2)-P(A_1 \\cap A_2)$\n",
        "\n",
        "Portanto:\n",
        "\n",
        "$P(A_1 \\cup A_2 \\cup A_3) =  P(A_1)+P(A_2)+P(A_3)-P(A_1 \\cap A_2)-P(A_1 \\cap A_3)-P(A_2 \\cap A_3)+P(A_1 \\cap A_2 \\cap A_3)$\n",
        "\n",
        "$P(A_1+A_2+A_3) =  P(A_1)+P(A_2)+P(A_3)-P(A_1 * A_2)-P(A_1 * A_3)-P(A_2 * A_3)+P(A_1 * A_2 * A_3)$\n",
        "\n",
        "Pela independência:\n",
        "\n",
        "$P(ab)=P(a)*P(b)$\n",
        "\n",
        "$P(ac)=P(a)*P(c)$\n",
        "\n",
        "$P(bc)=P(b)*P(c)$\n",
        "\n",
        "$P(abc)=P(a)*P(b)*P(c)$\n"
      ]
    },
    {
      "cell_type": "code",
      "metadata": {
        "colab": {
          "base_uri": "https://localhost:8080/"
        },
        "id": "3kDtfAMm7BLX",
        "outputId": "278ca8ce-7a83-4145-c12c-f7929b919a32"
      },
      "source": [
        "P100=Pa+Pb+Pc-Pa_b-Pa_c-Pb_c+Pa_b_c\n",
        "P100"
      ],
      "execution_count": 5,
      "outputs": [
        {
          "output_type": "execute_result",
          "data": {
            "text/plain": [
              "0.9760000000000001"
            ]
          },
          "metadata": {
            "tags": []
          },
          "execution_count": 5
        }
      ]
    },
    {
      "cell_type": "code",
      "metadata": {
        "colab": {
          "base_uri": "https://localhost:8080/"
        },
        "id": "DaOfjQTey2yq",
        "outputId": "3d763ed3-1799-441a-bdb7-38f96ed5fc9f"
      },
      "source": [
        "P100_Compl=1-(0.2*0.3*0.4)\n",
        "P100_Compl"
      ],
      "execution_count": 6,
      "outputs": [
        {
          "output_type": "execute_result",
          "data": {
            "text/plain": [
              "0.976"
            ]
          },
          "metadata": {
            "tags": []
          },
          "execution_count": 6
        }
      ]
    },
    {
      "cell_type": "markdown",
      "metadata": {
        "id": "gRLWXVqYwC6Y"
      },
      "source": [
        "### 1-B -> Determine a probabilidade de esse usuário receber um sinal acima de -100 dBm de quaisquer duas ERBs.\n",
        "\n",
        "$x = A \\cap B$\n",
        "\n",
        "$y = B \\cap C$\n",
        "\n",
        "$z = A \\cap C$\n",
        "\n",
        "onde:\n",
        "\n",
        "$P(x) = P(A) *P(B)$\n",
        "\n",
        "$P(y) = P(B) *P(C)$\n",
        "\n",
        "$P(z) = P(A) *P(C)$"
      ]
    },
    {
      "cell_type": "code",
      "metadata": {
        "colab": {
          "base_uri": "https://localhost:8080/"
        },
        "id": "IweGhCtPvNDe",
        "outputId": "84c95cec-64db-451c-b5ab-013fa610c4d0"
      },
      "source": [
        "Px=Pa*Pb\n",
        "Py=Pb*Pc\n",
        "Pz=Pa*Pc\n",
        "Px,Py,Pz"
      ],
      "execution_count": 7,
      "outputs": [
        {
          "output_type": "execute_result",
          "data": {
            "text/plain": [
              "(0.5599999999999999, 0.42, 0.48)"
            ]
          },
          "metadata": {
            "tags": []
          },
          "execution_count": 7
        }
      ]
    },
    {
      "cell_type": "markdown",
      "metadata": {
        "id": "wihrqrSy03qm"
      },
      "source": [
        "$P(x \\cup y \\cup z) =  P(x)+P(y)+P(z)-P(x \\cap y)-P(y \\cap z)-P(x \\cap z)+P(x \\cap y \\cap z)$\n",
        "\n",
        "$P(x + y +p z) =  P(x)+P(y)+P(z)-P(x * y)-P(y * z)-P(x *p z)+P(x * y * z)$"
      ]
    },
    {
      "cell_type": "markdown",
      "metadata": {
        "id": "mEHX6YDE2c_2"
      },
      "source": [
        "se: \n",
        "\n",
        "\n",
        "$P(x) = P(A) *P(B)$\n",
        "\n",
        "$P(y) = P(B) *P(C)$\n",
        "\n",
        "$P(z) = P(A) *P(C)$\n",
        "\n",
        "temos que:\n",
        "\n",
        "\n",
        "$P(xy)=P(AB)∗P(BC)$ \n",
        "\n",
        "$P(yz)=P(BC)∗P(AC)$ \n",
        "\n",
        "$P(xz)=P(AB)∗P(AC)$ \n",
        "\n",
        "$P(xyz)=P(AB)∗P(BC)∗P(AC)$ "
      ]
    },
    {
      "cell_type": "code",
      "metadata": {
        "colab": {
          "base_uri": "https://localhost:8080/"
        },
        "id": "XKbfwlB-FxXF",
        "outputId": "e259c81f-14d3-4d05-a173-517d376c0352"
      },
      "source": [
        "Px_y=Px*Py\n",
        "Py_z=Py*Pz\n",
        "Px_z=Px*Pz\n",
        "Px_y_z=Px*Py*Pz\n",
        "\n",
        "Px_y,Py_z,Px_z,Px_y_z"
      ],
      "execution_count": 8,
      "outputs": [
        {
          "output_type": "execute_result",
          "data": {
            "text/plain": [
              "(0.23519999999999996, 0.20159999999999997, 0.2688, 0.11289599999999998)"
            ]
          },
          "metadata": {
            "tags": []
          },
          "execution_count": 8
        }
      ]
    },
    {
      "cell_type": "markdown",
      "metadata": {
        "id": "TFhXAP8635xM"
      },
      "source": [
        "Assim: $P(x+y+z)=P(AB)+P(BC)+P(AC) - 2*P(A)∗P(B)∗P(C)$ "
      ]
    },
    {
      "cell_type": "code",
      "metadata": {
        "colab": {
          "base_uri": "https://localhost:8080/"
        },
        "id": "JLJLWxa3Fxjs",
        "outputId": "92b2135e-ff87-40e2-e870-7ff863799b6a"
      },
      "source": [
        "P100_2Estac=Px+Py+Pz-2*Pa_b_c\n",
        "P100_2Estac"
      ],
      "execution_count": 9,
      "outputs": [
        {
          "output_type": "execute_result",
          "data": {
            "text/plain": [
              "0.788"
            ]
          },
          "metadata": {
            "tags": []
          },
          "execution_count": 9
        }
      ]
    },
    {
      "cell_type": "markdown",
      "metadata": {
        "id": "Q6bVG93QwMTY"
      },
      "source": [
        "## Exercício 2"
      ]
    },
    {
      "cell_type": "markdown",
      "metadata": {
        "id": "cC0Hh8g9wQ_g"
      },
      "source": [
        "***Considere uma transmissão digital de um quadro de 5 bits em um ambiente sem fio tal que, para uma dada SNR  *(Signal Noise Ratio)* em dado esquema de modulação, a BER *(Bit Error Rate)* é de 1/4.***"
      ]
    },
    {
      "cell_type": "markdown",
      "metadata": {
        "id": "MwGWi8u-4lFr"
      },
      "source": [
        "Quadro é um conjunto de bits que se repete de t em t"
      ]
    },
    {
      "cell_type": "markdown",
      "metadata": {
        "id": "FNxxyeflK2qN"
      },
      "source": [
        "\n",
        "$$\\mathrm{SNR} = \\frac{P_\\mathrm{signal}}{P_\\mathrm{noise}}$$\n"
      ]
    },
    {
      "cell_type": "markdown",
      "metadata": {
        "id": "2uTutmK1wVQg"
      },
      "source": [
        "### 2-A -> Determine a probabilidade de 0, 1, 2, ..., 5 bits errados no quadro."
      ]
    },
    {
      "cell_type": "markdown",
      "metadata": {
        "id": "GJogzyfkGh80"
      },
      "source": [
        "#Fórmula de Bernouilli\n",
        "\n",
        "\n",
        "# $$P(k)=\\binom{n}{k} p^k q^{n-k}$$\n",
        "\n",
        "Onde\n",
        "\n",
        "# $$C_{k}^{n} = \\binom{n}{k} = \\frac{n!}{k!(n - k)!}$$\n",
        "\n",
        "e\n",
        "\n",
        "## $$n! = n\\times(n-1)\\times(n-2)\\times...\\times(2)\\times(1)$$\n",
        "## $$k! = k\\times(k-1)\\times(k-2)\\times...\\times(2)\\times(1)$$\n",
        "\n",
        "Por definição\n",
        "\n",
        "## $$0! = 1$$"
      ]
    },
    {
      "cell_type": "code",
      "metadata": {
        "id": "B_-FnE485G98"
      },
      "source": [
        "Pn_5=[]"
      ],
      "execution_count": 10,
      "outputs": []
    },
    {
      "cell_type": "code",
      "metadata": {
        "colab": {
          "base_uri": "https://localhost:8080/"
        },
        "id": "1I-XsvBpIGm2",
        "outputId": "6b255373-0935-4e89-a739-7a47292b9135"
      },
      "source": [
        "n_fat=(5*4*3*2*1)\n",
        "n_fat"
      ],
      "execution_count": 11,
      "outputs": [
        {
          "output_type": "execute_result",
          "data": {
            "text/plain": [
              "120"
            ]
          },
          "metadata": {
            "tags": []
          },
          "execution_count": 11
        }
      ]
    },
    {
      "cell_type": "code",
      "metadata": {
        "colab": {
          "base_uri": "https://localhost:8080/"
        },
        "id": "uqPpwG4bZe4k",
        "outputId": "09675e04-b277-4f59-a4cd-b2d5cf5fec57"
      },
      "source": [
        "C5_0 = n_fat/((1)*(5*4*3*2*1))\n",
        "P_0=C5_0*((1/4)**0)*((3/4)**5)\n",
        "Pn_5.append(P_0)\n",
        "Pn_5[0]\n"
      ],
      "execution_count": 12,
      "outputs": [
        {
          "output_type": "execute_result",
          "data": {
            "text/plain": [
              "0.2373046875"
            ]
          },
          "metadata": {
            "tags": []
          },
          "execution_count": 12
        }
      ]
    },
    {
      "cell_type": "code",
      "metadata": {
        "colab": {
          "base_uri": "https://localhost:8080/"
        },
        "id": "JKe7HjsLwPSv",
        "outputId": "23499977-bcc6-4000-b2a5-7d3804193e51"
      },
      "source": [
        "C5_1=n_fat/((1)*(4*3*2*1))\n",
        "P_1=C5_1*((1/4)**1)*((3/4)**4)\n",
        "Pn_5.append(P_1)\n",
        "Pn_5[1]"
      ],
      "execution_count": 13,
      "outputs": [
        {
          "output_type": "execute_result",
          "data": {
            "text/plain": [
              "0.3955078125"
            ]
          },
          "metadata": {
            "tags": []
          },
          "execution_count": 13
        }
      ]
    },
    {
      "cell_type": "code",
      "metadata": {
        "colab": {
          "base_uri": "https://localhost:8080/"
        },
        "id": "8_jnv3mEI5Xs",
        "outputId": "d791ed6e-c12f-4886-e385-407788d31068"
      },
      "source": [
        "C5_2=n_fat/((2*1)*(3*2*1))\n",
        "P_2=C5_2*((1/4)**2)*((3/4)**3)\n",
        "Pn_5.append(P_2)\n",
        "Pn_5[2]"
      ],
      "execution_count": 14,
      "outputs": [
        {
          "output_type": "execute_result",
          "data": {
            "text/plain": [
              "0.263671875"
            ]
          },
          "metadata": {
            "tags": []
          },
          "execution_count": 14
        }
      ]
    },
    {
      "cell_type": "code",
      "metadata": {
        "colab": {
          "base_uri": "https://localhost:8080/"
        },
        "id": "ysuvQJzQJNvE",
        "outputId": "662e0f9e-d694-47dd-f6eb-c9ddbae83bf0"
      },
      "source": [
        "C5_3=n_fat/((3*2*1)*(2*1))\n",
        "P_3=C5_3*((1/4)**3)*((3/4)**2)\n",
        "Pn_5.append(P_3)\n",
        "Pn_5[3]"
      ],
      "execution_count": 15,
      "outputs": [
        {
          "output_type": "execute_result",
          "data": {
            "text/plain": [
              "0.087890625"
            ]
          },
          "metadata": {
            "tags": []
          },
          "execution_count": 15
        }
      ]
    },
    {
      "cell_type": "code",
      "metadata": {
        "colab": {
          "base_uri": "https://localhost:8080/"
        },
        "id": "ReEfFFYLJb1L",
        "outputId": "c3428376-673e-498d-bfbc-bb77fd914c77"
      },
      "source": [
        "C5_4=n_fat/((4*3*2*1)*(1))\n",
        "P_4=C5_4*((1/4)**4)*((3/4)**1)\n",
        "Pn_5.append(P_4)\n",
        "Pn_5[4]"
      ],
      "execution_count": 16,
      "outputs": [
        {
          "output_type": "execute_result",
          "data": {
            "text/plain": [
              "0.0146484375"
            ]
          },
          "metadata": {
            "tags": []
          },
          "execution_count": 16
        }
      ]
    },
    {
      "cell_type": "code",
      "metadata": {
        "colab": {
          "base_uri": "https://localhost:8080/"
        },
        "id": "PPhT5jR_Jpoj",
        "outputId": "1533b320-516e-4afe-9aa3-158adf4f61ff"
      },
      "source": [
        "C5_5=n_fat/((5*4*3*2*1)*(1))\n",
        "P_5=C5_5*((1/4)**5)*((3/4)**0)\n",
        "Pn_5.append(P_5)\n",
        "Pn_5[5]"
      ],
      "execution_count": 17,
      "outputs": [
        {
          "output_type": "execute_result",
          "data": {
            "text/plain": [
              "0.0009765625"
            ]
          },
          "metadata": {
            "tags": []
          },
          "execution_count": 17
        }
      ]
    },
    {
      "cell_type": "code",
      "metadata": {
        "colab": {
          "base_uri": "https://localhost:8080/"
        },
        "id": "HgX4oIhO50RV",
        "outputId": "144d6ac3-1690-4b71-9ddf-d7613ef7c5eb"
      },
      "source": [
        "Pn_5"
      ],
      "execution_count": 18,
      "outputs": [
        {
          "output_type": "execute_result",
          "data": {
            "text/plain": [
              "[0.2373046875,\n",
              " 0.3955078125,\n",
              " 0.263671875,\n",
              " 0.087890625,\n",
              " 0.0146484375,\n",
              " 0.0009765625]"
            ]
          },
          "metadata": {
            "tags": []
          },
          "execution_count": 18
        }
      ]
    },
    {
      "cell_type": "code",
      "metadata": {
        "colab": {
          "base_uri": "https://localhost:8080/"
        },
        "id": "FnQ4ZcTR6hN4",
        "outputId": "a79f929e-a57c-4789-d061-7aa6111022ce"
      },
      "source": [
        "sum(Pn_5)"
      ],
      "execution_count": 19,
      "outputs": [
        {
          "output_type": "execute_result",
          "data": {
            "text/plain": [
              "1.0"
            ]
          },
          "metadata": {
            "tags": []
          },
          "execution_count": 19
        }
      ]
    },
    {
      "cell_type": "markdown",
      "metadata": {
        "id": "316QYIFMwawX"
      },
      "source": [
        "### 2-B -> Plote a respectiva PDF-Contínua (PMF-Discreta) e CDF."
      ]
    },
    {
      "cell_type": "code",
      "metadata": {
        "id": "c-hMplExPgVz"
      },
      "source": [
        "import matplotlib.pyplot as plt\n"
      ],
      "execution_count": 20,
      "outputs": []
    },
    {
      "cell_type": "code",
      "metadata": {
        "colab": {
          "base_uri": "https://localhost:8080/"
        },
        "id": "l-r3K-g3tE9q",
        "outputId": "a4bfac33-b5db-4a22-afef-b4bf16ac3b04"
      },
      "source": [
        "lX=[0,1,2,3,4,5]\n",
        "lY=Pn_5\n",
        "lY2=[P_0,P_0+P_1,P_0+P_2+P_1,P_0+P_3+P_2+P_1,P_0+P_4+P_3+P_2+P_1,P_0+P_5+P_4+P_3+P_2+P_1]\n",
        "lY2"
      ],
      "execution_count": 21,
      "outputs": [
        {
          "output_type": "execute_result",
          "data": {
            "text/plain": [
              "[0.2373046875, 0.6328125, 0.896484375, 0.984375, 0.9990234375, 1.0]"
            ]
          },
          "metadata": {
            "tags": []
          },
          "execution_count": 21
        }
      ]
    },
    {
      "cell_type": "code",
      "metadata": {
        "colab": {
          "base_uri": "https://localhost:8080/",
          "height": 498
        },
        "id": "UuHCKIjnwf1G",
        "outputId": "d62f0e17-2692-4171-91ee-4a2916b2a8eb"
      },
      "source": [
        "\n",
        "fig, (ax1,ax2) = plt.subplots(nrows=2,ncols=1)\n",
        "\n",
        "ax1.plot(lX,lY,'red')\n",
        "ax1.set_title('PDF - Probability Density Function')\n",
        "ax1.figure.set_size_inches(16,8)\n",
        "ax1.grid()\n",
        "ax2.plot(lX,lY2,'blue')\n",
        "ax2.set_title('CDF - Cumulative Distribution Function')\n",
        "ax2.figure.set_size_inches(16,8)\n",
        "ax2.grid()\n",
        "\n",
        "plt.show()"
      ],
      "execution_count": 22,
      "outputs": [
        {
          "output_type": "display_data",
          "data": {
            "image/png": "[encoded data removed]",
            "text/plain": [
              "<Figure size 1152x576 with 2 Axes>"
            ]
          },
          "metadata": {
            "tags": [],
            "needs_background": "light"
          }
        }
      ]
    },
    {
      "cell_type": "code",
      "metadata": {
        "colab": {
          "base_uri": "https://localhost:8080/"
        },
        "id": "opE2IcfliWse",
        "outputId": "89318b4a-438f-48ec-9f85-94a6da1ab639"
      },
      "source": [
        "sum(lY)"
      ],
      "execution_count": 23,
      "outputs": [
        {
          "output_type": "execute_result",
          "data": {
            "text/plain": [
              "1.0"
            ]
          },
          "metadata": {
            "tags": []
          },
          "execution_count": 23
        }
      ]
    },
    {
      "cell_type": "markdown",
      "metadata": {
        "id": "9Vt_4tQpwktX"
      },
      "source": [
        "### 2-C -> Determine a taxa de erro de bit média no quadro."
      ]
    },
    {
      "cell_type": "markdown",
      "metadata": {
        "id": "Af9cbJEGSYK7"
      },
      "source": [
        "Para distribuições discretas\n",
        "\n",
        "$$BER= \\frac{1}{n} \\sum _{k=0}^{n}x_{k}p(k)$$\n",
        "\n",
        "\n",
        "Notemos que começamos em 0, mas a multiplicação de 0 com P(0) é nula"
      ]
    },
    {
      "cell_type": "code",
      "metadata": {
        "colab": {
          "base_uri": "https://localhost:8080/"
        },
        "id": "0SEJ9_y-wne5",
        "outputId": "802d86aa-bd72-4319-e561-ab46ba8bfb2c"
      },
      "source": [
        "ber=0\n",
        "nor=1/5\n",
        "\n",
        "for i in range(1,len(lY)):\n",
        "  _=nor*lX[i]*lY[i]\n",
        "  ber+=_\n",
        "ber"
      ],
      "execution_count": 24,
      "outputs": [
        {
          "output_type": "execute_result",
          "data": {
            "text/plain": [
              "0.25"
            ]
          },
          "metadata": {
            "tags": []
          },
          "execution_count": 24
        }
      ]
    },
    {
      "cell_type": "markdown",
      "metadata": {
        "id": "Hr4Lk7m7woR3"
      },
      "source": [
        "### 2-D -> Determine a probabilidade de erro em quadro (*Frame Error Rate - FER*).\n",
        "\n",
        "$$FER= \\sum _{k=1}^{n}p(k)$$\n",
        "\n",
        "Notemos que começamos em 1 dado que é a probabilidade de erro no quadro (geral)"
      ]
    },
    {
      "cell_type": "code",
      "metadata": {
        "id": "PBLHOfAwwrdX",
        "colab": {
          "base_uri": "https://localhost:8080/"
        },
        "outputId": "db99ab6e-25e9-4517-8678-b3e1ca69120c"
      },
      "source": [
        "fer=0\n",
        "\n",
        "for i in range(1,len(lY)):\n",
        "  fer+=lY[i]\n",
        "fer"
      ],
      "execution_count": 25,
      "outputs": [
        {
          "output_type": "execute_result",
          "data": {
            "text/plain": [
              "0.7626953125"
            ]
          },
          "metadata": {
            "tags": []
          },
          "execution_count": 25
        }
      ]
    },
    {
      "cell_type": "markdown",
      "metadata": {
        "id": "w5lA6h-QDUci"
      },
      "source": [
        "OU:"
      ]
    },
    {
      "cell_type": "code",
      "metadata": {
        "colab": {
          "base_uri": "https://localhost:8080/"
        },
        "id": "x4pBhHf_DS8e",
        "outputId": "4ff2dac9-e820-499f-c3bf-c02d64be2882"
      },
      "source": [
        "1-P_0"
      ],
      "execution_count": 26,
      "outputs": [
        {
          "output_type": "execute_result",
          "data": {
            "text/plain": [
              "0.7626953125"
            ]
          },
          "metadata": {
            "tags": []
          },
          "execution_count": 26
        }
      ]
    },
    {
      "cell_type": "markdown",
      "metadata": {
        "id": "kEO_O831wzAs"
      },
      "source": [
        "## Exercício 3"
      ]
    },
    {
      "cell_type": "markdown",
      "metadata": {
        "id": "95G4rKLBw3VQ"
      },
      "source": [
        "***A tensão (ou potência) de larga escala X recebida em um ambiente sem fio quando \n",
        "medida em escala logarítmica tem uma PDF Gaussiana de média não nula. Obtenha a \n",
        "PDF de Y, sendo Y a correspondente medida linear. (Considere o logaritmo natural a \n",
        "título de exercício).***"
      ]
    },
    {
      "cell_type": "code",
      "metadata": {
        "id": "QEEIvhfrb1Zx"
      },
      "source": [
        "import numpy as np\n",
        "import scipy.stats as stats\n",
        "import math\n",
        "\n",
        "#https://stackoverflow.com/questions/10138085/python-plot-normal-distribution"
      ],
      "execution_count": 27,
      "outputs": []
    },
    {
      "cell_type": "markdown",
      "metadata": {
        "id": "qd50VPH8bcEr"
      },
      "source": [
        "X~N($\\mu$,$\\sigma$)"
      ]
    },
    {
      "cell_type": "markdown",
      "metadata": {
        "id": "LC_ceA82fvBg"
      },
      "source": [
        "$$f(x)={\\frac {1}{\\sigma {\\sqrt {2\\pi}}}} e^{-\\left({\\frac{(x-\\mu)^2 }{2\\sigma^2 }}\\right)}$$\n",
        "\n",
        "ou\n",
        "\n",
        "$$f(x)={\\frac {1}{\\sigma {\\sqrt {2\\pi}}}} e^{-\\left({\\frac{x-\\mu }{\\sqrt {2} \\sigma }}\\right)^2}$$\n",
        "\n",
        "\n",
        "Dado: $x=ln(y)$\n",
        "\n",
        "Portanto: $y= e^{x}$\n",
        "\n",
        "Normalmente em Wireless é um $log_{10}$ que usamos"
      ]
    },
    {
      "cell_type": "markdown",
      "metadata": {
        "id": "WrWLw6AtEly6"
      },
      "source": [
        "Usamos a transformação de váriáveis, uma vez que a função probabilidade de uma entrada é a mesma da saída:\n",
        "\n",
        "$$f_y(y)|dy| = f_x(x)|dx|$$\n",
        "\n",
        "E\n",
        "\n",
        "$$dy = e^{x} dx$$ \n",
        "\n",
        "e se\n",
        "\n",
        "$$y= e^{x}$$\n",
        "\n",
        "$$dy = ydx$$"
      ]
    },
    {
      "cell_type": "markdown",
      "metadata": {
        "id": "dWGJaU0LGJyZ"
      },
      "source": [
        "Logo:\n",
        "\n",
        "$$f_y(y)ydx = f_x(x)|_{: x=f(y)}dx$$\n",
        "\n",
        "Assim:\n",
        "\n",
        "$$f_y(y) = \\frac{1}{y} f_x(x)|_{: x=f(y)}$$\n",
        "\n",
        "sendo:\n",
        "\n",
        "$$f(x)={\\frac {1}{\\sigma {\\sqrt {2\\pi}}}} e^{-\\left({\\frac{x-\\mu }{\\sqrt {2} \\sigma }}\\right)^2}$$\n",
        "\n",
        "$$f_y(y) ={\\frac {1}{y \\sigma {\\sqrt {2\\pi}}}} e^{-\\left({\\frac{x-\\mu }{\\sqrt {2} \\sigma }}\\right)^2} |_{: x=f(y)}$$\n",
        "\n",
        "sendo: $x=f(y)$ e portanto $x=ln(y)$\n",
        "\n",
        "\n",
        "\n",
        "$$f_y(y) ={\\frac {1}{y \\sigma {\\sqrt {2\\pi}}}} e^{-\\left({\\frac{ln(y)-\\mu }{\\sqrt {2} \\sigma }}\\right)^2}$$\n",
        "\n",
        "\n",
        " considerando $\\mu=ln(u)$\n",
        "\n",
        "$$f_y(y) ={\\frac {1}{y \\sigma {\\sqrt {2\\pi}}}} e^{-\\left({\\frac{ln^2(y/ \\mu)}{2 \\sigma^2 }}\\right)}$$"
      ]
    },
    {
      "cell_type": "markdown",
      "metadata": {
        "id": "q8xo2tuDJmpa"
      },
      "source": [
        "A variação na entrada tende a ser a probabilidade do evento na saída, pois estamos passando por uma transformação de variáveis."
      ]
    },
    {
      "cell_type": "markdown",
      "metadata": {
        "id": "9uHT2bSqw9BI"
      },
      "source": [
        "## Exercício 4"
      ]
    },
    {
      "cell_type": "markdown",
      "metadata": {
        "id": "nFxyaNkrw_WA"
      },
      "source": [
        "***Seja X um ruído Gaussiano de média nula. Suponha esse ruído passando por um \n",
        "retificador de onda completa com saída Y. Determine e plote a PDF de Y.***"
      ]
    },
    {
      "cell_type": "markdown",
      "metadata": {
        "id": "Ene3SUsjKD_B"
      },
      "source": [
        "\n",
        "x ~ N(0, $\\sigma$)"
      ]
    },
    {
      "cell_type": "markdown",
      "metadata": {
        "id": "ypXWBo90KYJH"
      },
      "source": [
        "Duas soluções:\n",
        "\n",
        " y=x, para x >=0\n",
        "\n",
        " y=-x, para x <=0\n",
        "\n",
        " $$f_y(y)dy = \\sum_{i=1}^{n} f_x(x)dx|_{: x1,2}$$\n",
        "\n",
        " e $n=2$\n",
        "\n",
        " $dy=dx$"
      ]
    },
    {
      "cell_type": "markdown",
      "metadata": {
        "id": "ByUB95vSLoBB"
      },
      "source": [
        "O circuito retificador é o módulo da variável de entrada:"
      ]
    },
    {
      "cell_type": "markdown",
      "metadata": {
        "id": "GM_DLFzJLtqZ"
      },
      "source": [
        "$f(y)={\\frac {1}{\\sigma {\\sqrt {2\\pi}}}} e^{-\\left({\\frac{x^2 }{2 \\sigma^2 }}\\right)}|x=y$ + $f(y)={\\frac {1}{\\sigma {\\sqrt {2\\pi}}}} e^{-\\left({\\frac{x^2 }{2 \\sigma^2 }}\\right)}|x=-y$\n",
        "\n",
        "O $\\mu$ desapareceu pois a média da distribuição é 0"
      ]
    },
    {
      "cell_type": "markdown",
      "metadata": {
        "id": "hhZS_YbNMiGl"
      },
      "source": [
        "\n",
        "$f(y)={\\frac {2}{\\sigma {\\sqrt {2\\pi}}}} e^{-\\left({\\frac{y^2 }{2 \\sigma^2 }}\\right)}$\n",
        "\n",
        "ou\n",
        "\n",
        "$f(y)={ \\sqrt{\\frac {2}{\\sigma^2 \\pi}}} e^{-\\left({\\frac{y^2 }{2 \\sigma^2 }}\\right)}$\n",
        "\n"
      ]
    },
    {
      "cell_type": "code",
      "metadata": {
        "colab": {
          "base_uri": "https://localhost:8080/"
        },
        "id": "QBk_02vhJ5u0",
        "outputId": "1df4961d-9348-44c1-f163-faf822bc0b1e"
      },
      "source": [
        "mu = 0\n",
        "variance = 1\n",
        "sigma = math.sqrt(variance)\n",
        "x = np.linspace(mu - 3*sigma, mu + 3*sigma, 100)\n",
        "len(x)"
      ],
      "execution_count": 28,
      "outputs": [
        {
          "output_type": "execute_result",
          "data": {
            "text/plain": [
              "100"
            ]
          },
          "metadata": {
            "tags": []
          },
          "execution_count": 28
        }
      ]
    },
    {
      "cell_type": "code",
      "metadata": {
        "colab": {
          "base_uri": "https://localhost:8080/"
        },
        "id": "M9oLnoEfQCWn",
        "outputId": "378821e7-8031-40c4-dec4-1d73345a1e83"
      },
      "source": [
        "y=[]\n",
        "for i in x:\n",
        "  y.append(abs(i))\n",
        "len(y)"
      ],
      "execution_count": 29,
      "outputs": [
        {
          "output_type": "execute_result",
          "data": {
            "text/plain": [
              "100"
            ]
          },
          "metadata": {
            "tags": []
          },
          "execution_count": 29
        }
      ]
    },
    {
      "cell_type": "code",
      "metadata": {
        "colab": {
          "base_uri": "https://localhost:8080/",
          "height": 374
        },
        "id": "EGPK5X7ZXJKm",
        "outputId": "deadf3d1-031c-4572-f2ac-176af1ee425a"
      },
      "source": [
        "plt.figure(figsize=(12,6))\n",
        "plt.plot(x,y,'blue')\n",
        "plt.grid()\n",
        "plt.show()"
      ],
      "execution_count": 30,
      "outputs": [
        {
          "output_type": "display_data",
          "data": {
            "image/png": "[encoded data removed]",
            "text/plain": [
              "<Figure size 864x432 with 1 Axes>"
            ]
          },
          "metadata": {
            "tags": [],
            "needs_background": "light"
          }
        }
      ]
    },
    {
      "cell_type": "code",
      "metadata": {
        "id": "tGXcjxQkN_X2"
      },
      "source": [
        "def fx_4(x,vari):\n",
        "  y=[]\n",
        "  for i in x:\n",
        "    temp=np.sqrt(2/(np.pi*vari**2))*np.exp(-(i**2)/(2*vari**2))\n",
        "    y.append(temp)\n",
        "  return y"
      ],
      "execution_count": 31,
      "outputs": []
    },
    {
      "cell_type": "code",
      "metadata": {
        "colab": {
          "base_uri": "https://localhost:8080/"
        },
        "id": "6GggXroyRlk4",
        "outputId": "d63bb151-90b8-4963-89a1-17c4d23dd31f"
      },
      "source": [
        "y_den = fx_4(y,1)\n",
        "len(y_den)"
      ],
      "execution_count": 32,
      "outputs": [
        {
          "output_type": "execute_result",
          "data": {
            "text/plain": [
              "100"
            ]
          },
          "metadata": {
            "tags": []
          },
          "execution_count": 32
        }
      ]
    },
    {
      "cell_type": "code",
      "metadata": {
        "colab": {
          "base_uri": "https://localhost:8080/",
          "height": 374
        },
        "id": "06FSe0yCTae_",
        "outputId": "f60c9a7d-51c9-418e-ab23-fb83a45f3e4b"
      },
      "source": [
        "plt.figure(figsize=(12,6))\n",
        "plt.plot(y,y_den,'blue')\n",
        "plt.grid()\n",
        "plt.show()"
      ],
      "execution_count": 33,
      "outputs": [
        {
          "output_type": "display_data",
          "data": {
            "image/png": "[encoded data removed]",
            "text/plain": [
              "<Figure size 864x432 with 1 Axes>"
            ]
          },
          "metadata": {
            "tags": [],
            "needs_background": "light"
          }
        }
      ]
    },
    {
      "cell_type": "code",
      "metadata": {
        "colab": {
          "base_uri": "https://localhost:8080/"
        },
        "id": "tLM7t6rbiOwD",
        "outputId": "9330e271-cb23-4ef3-903b-abb13a013bbf"
      },
      "source": [
        "sum(y_den)"
      ],
      "execution_count": 34,
      "outputs": [
        {
          "output_type": "execute_result",
          "data": {
            "text/plain": [
              "32.91950192851236"
            ]
          },
          "metadata": {
            "tags": []
          },
          "execution_count": 34
        }
      ]
    },
    {
      "cell_type": "code",
      "metadata": {
        "id": "zVJmUfa7w-nn"
      },
      "source": [
        "# plt.figure(figsize=(12,6))\n",
        "# plt.plot(y, stats.norm.pdf(y, mu, sigma))\n",
        "# plt.grid()\n",
        "# plt.show()"
      ],
      "execution_count": 35,
      "outputs": []
    },
    {
      "cell_type": "code",
      "metadata": {
        "id": "VO0yvPYXi24L"
      },
      "source": [
        ""
      ],
      "execution_count": 35,
      "outputs": []
    },
    {
      "cell_type": "code",
      "metadata": {
        "id": "qasNU_k9UyTk"
      },
      "source": [
        ""
      ],
      "execution_count": 35,
      "outputs": []
    },
    {
      "cell_type": "markdown",
      "metadata": {
        "id": "vlq8EOVAxCVw"
      },
      "source": [
        "## Exercício 5"
      ]
    },
    {
      "cell_type": "markdown",
      "metadata": {
        "id": "rppsgbtjxEXw"
      },
      "source": [
        "***Em amostragens de curto prazo, a PDF 𝑓W(𝑤) da potência do sinal recebido em um ambiente sem fio pode ser modelada por uma exponencial negativa, i.e. $$𝑓W(𝑤) = \\frac {1}{W} e^{-(\\frac{𝑤}{W})}$$, em que W é a potência média local. Deseja-se gerar amostras dessa PDF a partir de uma densidade uniforme no intervalo (a, b). Obtenha a transformação necessária.***\n",
        "\n"
      ]
    },
    {
      "cell_type": "markdown",
      "metadata": {
        "id": "lpCxVpheyCG6"
      },
      "source": [
        "\n",
        "$$f_w(w)dw|_{w=g(u)} = f_u(u)du $$\n",
        "\n",
        "onde:\n",
        "\n",
        "$$\\frac{1}{W_m} e^{\\frac{-w}{W_m}}dw = \\frac{1}{b-a}du $$\n",
        "\n",
        "integrando:\n",
        "\n",
        "$$\\int_{0}^{w}\\frac{1}{W_m} e^{\\frac{-x}{W_m}}dx = \\frac{1}{b-a} \\int_{0}^{y} du$$\n",
        "\n",
        "resolvendo a integral definida, atentando ao y da transformação:\n",
        "\n",
        "$$-e^{\\frac{-x}{W_m}}|_0^w = \\frac{1}{b-a}u|_a^y $$\n",
        "\n",
        "calculando dentro dos intervalos:\n",
        "\n",
        "$$-e^{\\frac{-w}{W_m}} - (-e^0) = \\frac{y}{b-a}-\\frac{a}{b-a} $$\n",
        "\n",
        "$$1-e^{\\frac{-w}{W_m}} = \\frac{y-a}{b-a} $$\n",
        "\n",
        "isolando o w:\n",
        "\n",
        "$$-e^{\\frac{-w}{W_m}} = \\frac{y-a}{b-a} - 1$$\n",
        "\n",
        "multiplicando os lados por -1:\n",
        "\n",
        "$$e^{\\frac{-w}{W_m}} = -\\frac{y-a}{b-a} + 1$$\n",
        ".\n",
        "\n",
        "$$e^{\\frac{-w}{W_m}} = -\\frac{y-a}{b-a} + \\frac{b-a}{b-a}$$\n",
        ".\n",
        "\n",
        "$$e^{\\frac{-w}{W_m}} = \\frac{-y+a+b-a}{b-a} $$\n",
        ".\n",
        "\n",
        "$$e^{\\frac{-w}{W_m}} = \\frac{b-y}{b-a} $$\n",
        "\n",
        "aplicando ln nos dois lados:\n",
        "\n",
        "$$\\frac{-w}{W_m} = ln{\\frac{b-y}{b-a}} $$\n",
        ".\n",
        "\n",
        "$$ -w = W_m ln{\\frac{b-y}{b-a}} $$\n",
        ".\n",
        "\n",
        "$$ w = -W_m ln{\\frac{b-y}{b-a}} $$\n",
        "\n",
        "ou\n",
        "\n",
        "$$ w = W_m ln{\\frac{b-a}{b-y}} $$"
      ]
    },
    {
      "cell_type": "markdown",
      "metadata": {
        "id": "dx_3_Dmc6K1D"
      },
      "source": [
        "PARA Y ~ UNIFORME no intervalo (a,b) com a média arbitrada em 1/wm"
      ]
    },
    {
      "cell_type": "markdown",
      "metadata": {
        "id": "scKU2Raj6nN2"
      },
      "source": [
        "Gerando n amostras com y, na distribuição uniforme, teremos n saídas em w, teremos uma PDF que é uma exponencial negativa."
      ]
    },
    {
      "cell_type": "code",
      "metadata": {
        "id": "SCSXwoCAxDuX",
        "colab": {
          "base_uri": "https://localhost:8080/"
        },
        "outputId": "186e4139-1ba6-4084-bf84-0a6866366761"
      },
      "source": [
        "x_5 = np.linspace(0, 200, 100)\n",
        "x_5[1]-x_5[0],x_5[60]-x_5[59]\n"
      ],
      "execution_count": 36,
      "outputs": [
        {
          "output_type": "execute_result",
          "data": {
            "text/plain": [
              "(2.0202020202020203, 2.0202020202020208)"
            ]
          },
          "metadata": {
            "tags": []
          },
          "execution_count": 36
        }
      ]
    },
    {
      "cell_type": "code",
      "metadata": {
        "colab": {
          "base_uri": "https://localhost:8080/"
        },
        "id": "fgE8gmYP7856",
        "outputId": "1a17b1c7-6b5b-43f6-8990-b3be5c627039"
      },
      "source": [
        "x_5.mean()"
      ],
      "execution_count": 37,
      "outputs": [
        {
          "output_type": "execute_result",
          "data": {
            "text/plain": [
              "100.00000000000001"
            ]
          },
          "metadata": {
            "tags": []
          },
          "execution_count": 37
        }
      ]
    },
    {
      "cell_type": "code",
      "metadata": {
        "id": "zcrBs1uO7kN4"
      },
      "source": [
        "def f_5(x,a,b,W):\n",
        "  y=[]\n",
        "  for i in x:\n",
        "    temp=W*np.log((b-a)/(b-i))\n",
        "    y.append(temp)\n",
        "  return y"
      ],
      "execution_count": 38,
      "outputs": []
    },
    {
      "cell_type": "code",
      "metadata": {
        "colab": {
          "base_uri": "https://localhost:8080/"
        },
        "id": "_TiQAhDP8eLm",
        "outputId": "f6cf3958-b1e4-49e4-f836-134c4a7f7e6c"
      },
      "source": [
        "y_5 = f_5(x_5,0,200,50)\n",
        "len(y_5)"
      ],
      "execution_count": 39,
      "outputs": [
        {
          "output_type": "stream",
          "text": [
            "/usr/local/lib/python3.7/dist-packages/ipykernel_launcher.py:4: RuntimeWarning: divide by zero encountered in double_scalars\n",
            "  after removing the cwd from sys.path.\n"
          ],
          "name": "stderr"
        },
        {
          "output_type": "execute_result",
          "data": {
            "text/plain": [
              "100"
            ]
          },
          "metadata": {
            "tags": []
          },
          "execution_count": 39
        }
      ]
    },
    {
      "cell_type": "code",
      "metadata": {
        "colab": {
          "base_uri": "https://localhost:8080/",
          "height": 374
        },
        "id": "c_ZPWkc19Fw1",
        "outputId": "cf878e53-982c-413b-ed9d-f7d78dc77225"
      },
      "source": [
        "plt.figure(figsize=(12,6))\n",
        "plt.plot(x_5,y_5,'blue')\n",
        "plt.grid()\n",
        "plt.show()"
      ],
      "execution_count": 40,
      "outputs": [
        {
          "output_type": "display_data",
          "data": {
            "image/png": "[encoded data removed]",
            "text/plain": [
              "<Figure size 864x432 with 1 Axes>"
            ]
          },
          "metadata": {
            "tags": [],
            "needs_background": "light"
          }
        }
      ]
    },
    {
      "cell_type": "markdown",
      "metadata": {
        "id": "srCtrCtQxcex"
      },
      "source": [
        "## Exercício 6"
      ]
    },
    {
      "cell_type": "markdown",
      "metadata": {
        "id": "rNa_ztKpxfbI"
      },
      "source": [
        "***Um dos hospitais municipais de uma pequena cidade do interior de São Paulo é \n",
        "planejado para atender uma população de 30.000 habitantes. Por conta da pandemia do coronavírus, é esperado que uma razoável porcentagem da população se infecte e que desta, outra grande porcentagem venha a necessitar de internação.*** \n",
        "\n",
        "***O hospital dispõe de 45 leitos, dos quais 30 para o SUS e 15 para convênios.*** \n",
        "\n",
        "***Se a contaminação ocorresse em um curto intervalo de tempo, o hospital não teria condições de atender a todos. Por exemplo, imagine que apenas 10% se infecte e que 15% destes necessitem de internação. Neste caso, o número total de pacientes precisando de internação seria de 450, o que o hospital não comporta.***\n",
        "\n",
        "***Por conta da política de isolamento social, as contaminações estarão espalhadas ao longo do tempo. Suponha que o número médio de atendimentos por dia com suspeita de contaminação seja de 27 e que 15% necessitem de internação, sendo 2/3 de pacientes SUS e 1/3 de pacientes de convênios.***\n",
        "\n",
        "***Considere ainda que, uma vez internado, o paciente passe, em média, 14 dias em atendimento.***"
      ]
    },
    {
      "cell_type": "markdown",
      "metadata": {
        "id": "-6qqQRfmqA5M"
      },
      "source": [
        "Como não é um surto temos uma taxa de crescimento, em uma distribuição tipo Poisson (constante em média)"
      ]
    },
    {
      "cell_type": "markdown",
      "metadata": {
        "id": "JVNht92JpSTI"
      },
      "source": [
        "Aqui temos um problema de tráfego, e no caso, usando a fórmula de Erlang"
      ]
    },
    {
      "cell_type": "code",
      "metadata": {
        "id": "xs5IE8yfvpd8"
      },
      "source": [
        "import numpy as np\n"
      ],
      "execution_count": 41,
      "outputs": []
    },
    {
      "cell_type": "code",
      "metadata": {
        "colab": {
          "base_uri": "https://localhost:8080/"
        },
        "id": "cQoNurujlV0G",
        "outputId": "c408af2e-90fb-4430-838f-7af587dbbe8e"
      },
      "source": [
        "T_Hab=30000\n",
        "Infec=T_Hab*10/100\n",
        "Internados=Infec*15/100\n",
        "Internados"
      ],
      "execution_count": 42,
      "outputs": [
        {
          "output_type": "execute_result",
          "data": {
            "text/plain": [
              "450.0"
            ]
          },
          "metadata": {
            "tags": []
          },
          "execution_count": 42
        }
      ]
    },
    {
      "cell_type": "code",
      "metadata": {
        "id": "qu0mc7FkmZZ-"
      },
      "source": [
        "taxa_SUS=2/3\n",
        "taxa_Convenio=1/3"
      ],
      "execution_count": 43,
      "outputs": []
    },
    {
      "cell_type": "code",
      "metadata": {
        "id": "OB2P40mslnR2",
        "colab": {
          "base_uri": "https://localhost:8080/"
        },
        "outputId": "7efd9523-748e-4b3e-b5cd-626a95ff05c7"
      },
      "source": [
        "Leitos=45\n",
        "Leitos_SUS=int(Leitos*taxa_SUS)\n",
        "Leitos_Conv=int(Leitos*taxa_Convenio)\n",
        "print('O número total de leito  é {}, e destes, {} são para pacientes do SUS e {} para pacientes de convênio.'.format(Leitos,Leitos_SUS,Leitos_Conv))"
      ],
      "execution_count": 44,
      "outputs": [
        {
          "output_type": "stream",
          "text": [
            "O número total de leito  é 45, e destes, 30 são para pacientes do SUS e 15 para pacientes de convênio.\n"
          ],
          "name": "stdout"
        }
      ]
    },
    {
      "cell_type": "code",
      "metadata": {
        "colab": {
          "base_uri": "https://localhost:8080/"
        },
        "id": "N4YzWHjcmAH-",
        "outputId": "e4775b02-7fa2-485c-bfd1-7a7d08d9fd30"
      },
      "source": [
        "mu_Infec_dia=27\n",
        "mu_Internados_dia=mu_Infec_dia*15/100\n",
        "print('O número total de pacientes infectados por dia é {}, e destes {} são internados'.format(mu_Infec_dia,mu_Internados_dia))"
      ],
      "execution_count": 45,
      "outputs": [
        {
          "output_type": "stream",
          "text": [
            "O número total de pacientes infectados por dia é 27, e destes 4.05 são internados\n"
          ],
          "name": "stdout"
        }
      ]
    },
    {
      "cell_type": "code",
      "metadata": {
        "colab": {
          "base_uri": "https://localhost:8080/"
        },
        "id": "juEcrL4Frwm0",
        "outputId": "fed6108a-2df9-4a0c-8caa-bf202953010c"
      },
      "source": [
        "tempo_iternação = 14\n",
        "print('O tempo de internação é {} dias'.format(tempo_iternação))"
      ],
      "execution_count": 46,
      "outputs": [
        {
          "output_type": "stream",
          "text": [
            "O tempo de internação é 14 dias\n"
          ],
          "name": "stdout"
        }
      ]
    },
    {
      "cell_type": "markdown",
      "metadata": {
        "id": "ZlnbFDz0yO45"
      },
      "source": [
        "### 6-A -> Determine a probabilidade de um paciente de convênio precisando de internação não poder ser internado."
      ]
    },
    {
      "cell_type": "code",
      "metadata": {
        "id": "MfYE5Ae1xe4f",
        "colab": {
          "base_uri": "https://localhost:8080/"
        },
        "outputId": "61743705-42c4-428c-f8af-2f54b8683ad2"
      },
      "source": [
        "#Trafego total\n",
        "trafego_total = round((mu_Internados_dia*tempo_iternação),1)\n",
        "print('O tráfego total é de {} Erlang'.format(trafego_total))"
      ],
      "execution_count": 47,
      "outputs": [
        {
          "output_type": "stream",
          "text": [
            "O tráfego total é de 56.7 Erlang\n"
          ],
          "name": "stdout"
        }
      ]
    },
    {
      "cell_type": "code",
      "metadata": {
        "colab": {
          "base_uri": "https://localhost:8080/"
        },
        "id": "imLSDNt2sqLR",
        "outputId": "e802e37a-8956-4cd8-dcbe-a30b87b69be6"
      },
      "source": [
        "#Trafego do convênio\n",
        "trafego_convenio = round((trafego_total*taxa_Convenio),1)\n",
        "print('O tráfego de convênio é de {} Erlang'.format(trafego_convenio))"
      ],
      "execution_count": 48,
      "outputs": [
        {
          "output_type": "stream",
          "text": [
            "O tráfego de convênio é de 18.9 Erlang\n"
          ],
          "name": "stdout"
        }
      ]
    },
    {
      "cell_type": "code",
      "metadata": {
        "colab": {
          "base_uri": "https://localhost:8080/"
        },
        "id": "MiDOf8S7tPLY",
        "outputId": "90a30b57-49a2-4e48-c447-282c9ffaf6ff"
      },
      "source": [
        "#Número de recursos do convênio\n",
        "Leitos_Conv\n",
        "print('O número de recursos para o convênio é de {} leitos'.format(Leitos_Conv))"
      ],
      "execution_count": 49,
      "outputs": [
        {
          "output_type": "stream",
          "text": [
            "O número de recursos para o convênio é de 15 leitos\n"
          ],
          "name": "stdout"
        }
      ]
    },
    {
      "cell_type": "markdown",
      "metadata": {
        "id": "gl9QR3qlwaL2"
      },
      "source": [
        "$$P_b = \\frac{\\frac{E^N}{N!}}{\\sum_{x=0}^{N} \\frac{E^x}{X!}}$$"
      ]
    },
    {
      "cell_type": "code",
      "metadata": {
        "id": "DVAk_HN6wIwI"
      },
      "source": [
        "def erlang_B(E,N):\n",
        "  num = (E**N)/(np.math.factorial(N))\n",
        "  den = 0\n",
        "  for i in range (0,N+1):\n",
        "    temp = (E**i)/(np.math.factorial(i))\n",
        "    den += temp\n",
        "  P_b = num / den\n",
        "  return P_b\n"
      ],
      "execution_count": 50,
      "outputs": []
    },
    {
      "cell_type": "code",
      "metadata": {
        "colab": {
          "base_uri": "https://localhost:8080/"
        },
        "id": "Qt_O9qLcvmZH",
        "outputId": "0bba218e-3f44-46d6-f05d-d544d1565ef3"
      },
      "source": [
        "Prob_Bloq_Convenio = erlang_B(trafego_convenio,Leitos_Conv)\n",
        "print('A probabilidade de bloqueio do convênio é de aproximadamente {:.2f} %'.format(Prob_Bloq_Convenio*100))"
      ],
      "execution_count": 51,
      "outputs": [
        {
          "output_type": "stream",
          "text": [
            "A probabilidade de bloqueio do convênio é de aproximadamente 30.00 %\n"
          ],
          "name": "stdout"
        }
      ]
    },
    {
      "cell_type": "markdown",
      "metadata": {
        "id": "6sn4dS1utrR9"
      },
      "source": [
        "**Fazendo usa da tabela, a probabilidade de bloqueio para o convênio é de: 30% **"
      ]
    },
    {
      "cell_type": "markdown",
      "metadata": {
        "id": "gv3vRObIyW6J"
      },
      "source": [
        "### 6-B -> Idem para um cliente SUS."
      ]
    },
    {
      "cell_type": "code",
      "metadata": {
        "colab": {
          "base_uri": "https://localhost:8080/"
        },
        "id": "4nNeuwgWtkSu",
        "outputId": "a52f248e-30a7-4bfd-f582-9baa7de72993"
      },
      "source": [
        "#Trafego do SUS\n",
        "trafego_SUS = round((trafego_total*taxa_SUS),1)\n",
        "print('O tráfego de SUS é de {} Erlang'.format(trafego_SUS))"
      ],
      "execution_count": 52,
      "outputs": [
        {
          "output_type": "stream",
          "text": [
            "O tráfego de SUS é de 37.8 Erlang\n"
          ],
          "name": "stdout"
        }
      ]
    },
    {
      "cell_type": "code",
      "metadata": {
        "colab": {
          "base_uri": "https://localhost:8080/"
        },
        "id": "J0VuhWY9zTiG",
        "outputId": "8a3be808-61da-44e4-b065-e46ae1790c35"
      },
      "source": [
        "#Número de recursos do SUS\n",
        "Leitos_SUS\n",
        "print('O número de recursos para o SUS é de {} leitos'.format(Leitos_SUS))"
      ],
      "execution_count": 53,
      "outputs": [
        {
          "output_type": "stream",
          "text": [
            "O número de recursos para o SUS é de 30 leitos\n"
          ],
          "name": "stdout"
        }
      ]
    },
    {
      "cell_type": "code",
      "metadata": {
        "colab": {
          "base_uri": "https://localhost:8080/"
        },
        "id": "02Nc2gvwzeCy",
        "outputId": "a6e4f8d1-5411-403b-8b83-8411cb29974d"
      },
      "source": [
        "Prob_Bloq_SUS = erlang_B(trafego_SUS,Leitos_SUS)\n",
        "print('A probabilidade de bloqueio do convênio é de {:.2f} %'.format(Prob_Bloq_SUS*100))"
      ],
      "execution_count": 54,
      "outputs": [
        {
          "output_type": "stream",
          "text": [
            "A probabilidade de bloqueio do convênio é de 26.57 %\n"
          ],
          "name": "stdout"
        }
      ]
    },
    {
      "cell_type": "markdown",
      "metadata": {
        "id": "l68Lcm5I0OLs"
      },
      "source": [
        "**Fazendo usa da tabela, a probabilidade de bloqueio para o convênio é de: 26.57% **"
      ]
    },
    {
      "cell_type": "markdown",
      "metadata": {
        "id": "5lIcDXEcyei4"
      },
      "source": [
        "### 6-C ->  Determine o número médio diário de pacientes de convênio precisando de internação não podendo ser internado."
      ]
    },
    {
      "cell_type": "markdown",
      "metadata": {
        "id": "LhIPtflD1wsD"
      },
      "source": [
        "Neste caso teremos a taa de chegada * a probabilidade de bloqueio:\n",
        "\n",
        "$$ N_{Bloqueados} = Taxa_{Chegada} * P_{Bloqueio}$$\n",
        "\n",
        "Onde a taxa de chagada é a quantidade de chamadas para aquele recurso * taxa de utilização para aquele recurso"
      ]
    },
    {
      "cell_type": "code",
      "metadata": {
        "id": "FAOT5wNzyeG2",
        "colab": {
          "base_uri": "https://localhost:8080/"
        },
        "outputId": "dcc55b6e-a8ca-42d4-e88e-b695c0a33eeb"
      },
      "source": [
        "N_Intern_Convenio_dia = Prob_Bloq_Convenio*taxa_Convenio*mu_Internados_dia #Onde a taxa de chegada é o número de internados / dia * taxa leitos convênio\n",
        "print('A quantidade de pacientes do convênio não internados é de {:.3f} / dia'.format(N_Intern_Convenio_dia))"
      ],
      "execution_count": 55,
      "outputs": [
        {
          "output_type": "stream",
          "text": [
            "A quantidade de pacientes do convênio não internados é de 0.405 / dia\n"
          ],
          "name": "stdout"
        }
      ]
    },
    {
      "cell_type": "markdown",
      "metadata": {
        "id": "-Ev0qDMZyjuw"
      },
      "source": [
        "### 6-D ->  Idem para um cliente SUS."
      ]
    },
    {
      "cell_type": "code",
      "metadata": {
        "id": "tkeUuPadyoeO",
        "colab": {
          "base_uri": "https://localhost:8080/"
        },
        "outputId": "b04c8863-becf-45cd-e345-cd812cc32867"
      },
      "source": [
        "N_Intern_SUS_dia = Prob_Bloq_SUS*taxa_SUS*mu_Internados_dia #Onde a taxa de chegada é o número de internados / dia * taxa leitos convênio\n",
        "print('A quantidade de pacientes do SUS não internados é de {:.3f} / dia'.format(N_Intern_SUS_dia))"
      ],
      "execution_count": 56,
      "outputs": [
        {
          "output_type": "stream",
          "text": [
            "A quantidade de pacientes do SUS não internados é de 0.717 / dia\n"
          ],
          "name": "stdout"
        }
      ]
    },
    {
      "cell_type": "markdown",
      "metadata": {
        "id": "53Af9ok3yo5g"
      },
      "source": [
        "### 6-E ->  Determine o número médio diário de pacientes precisando de internação não podendo ser internado."
      ]
    },
    {
      "cell_type": "code",
      "metadata": {
        "id": "VKqRjq-Myhdu",
        "colab": {
          "base_uri": "https://localhost:8080/"
        },
        "outputId": "700bb770-fdca-49d4-f9e0-eb996cdea7e2"
      },
      "source": [
        "N_Intern_total_dia = N_Intern_Convenio_dia + N_Intern_SUS_dia\n",
        "print('A quantidade total de pacientes não internados é de {:.3f} / dia'.format(N_Intern_total_dia))"
      ],
      "execution_count": 57,
      "outputs": [
        {
          "output_type": "stream",
          "text": [
            "A quantidade total de pacientes não internados é de 1.122 / dia\n"
          ],
          "name": "stdout"
        }
      ]
    },
    {
      "cell_type": "markdown",
      "metadata": {
        "id": "jyY5cX-HyunH"
      },
      "source": [
        "### 6-F ->  Determine o número médio de leitos de convênios ocupados."
      ]
    },
    {
      "cell_type": "markdown",
      "metadata": {
        "id": "g36uJfmL5eS4"
      },
      "source": [
        "Qual é o tráfego escoado, ou número médio de canais ocupados: o que chega * o que passa \n",
        "\n",
        "$$ L_{Ocupados} = Trafego*(1-P_b)$$ "
      ]
    },
    {
      "cell_type": "code",
      "metadata": {
        "id": "6VZrujOnyuKm",
        "colab": {
          "base_uri": "https://localhost:8080/"
        },
        "outputId": "75a1023c-74ac-4caa-de5c-bd1c9daf83ff"
      },
      "source": [
        "Leitos_Conv_Ocupados = trafego_convenio*(1-Prob_Bloq_Convenio)\n",
        "print('A quantidade de leitos de convênio ocupados {:.2f}'.format(Leitos_Conv_Ocupados))"
      ],
      "execution_count": 58,
      "outputs": [
        {
          "output_type": "stream",
          "text": [
            "A quantidade de leitos de convênio ocupados 13.23\n"
          ],
          "name": "stdout"
        }
      ]
    },
    {
      "cell_type": "markdown",
      "metadata": {
        "id": "KzTQM65-yzJf"
      },
      "source": [
        "### 6-G ->  Idem para leitos SUS."
      ]
    },
    {
      "cell_type": "code",
      "metadata": {
        "id": "rCu3PA3Uyysm",
        "colab": {
          "base_uri": "https://localhost:8080/"
        },
        "outputId": "edf0dd96-63df-42e8-8f12-2fc815e887d4"
      },
      "source": [
        "Leitos_SUS_Ocupados = trafego_SUS*(1-Prob_Bloq_SUS)\n",
        "print('A quantidade de leitos dos SUS ocupados {:.2f}'.format(Leitos_SUS_Ocupados))"
      ],
      "execution_count": 59,
      "outputs": [
        {
          "output_type": "stream",
          "text": [
            "A quantidade de leitos dos SUS ocupados 27.76\n"
          ],
          "name": "stdout"
        }
      ]
    },
    {
      "cell_type": "markdown",
      "metadata": {
        "id": "1pz8Do3ay3wB"
      },
      "source": [
        "### 6-H ->  Determine o número médio de leitos ocupados."
      ]
    },
    {
      "cell_type": "code",
      "metadata": {
        "id": "rlOQhzaDy3Ve",
        "colab": {
          "base_uri": "https://localhost:8080/"
        },
        "outputId": "8c42912b-e26f-48e5-8719-3ac7cad2060f"
      },
      "source": [
        "Leitos_Totais_Ocupados = Leitos_Conv_Ocupados + Leitos_SUS_Ocupados\n",
        "print('A quantidade total de leitos ocupados {:.4f}'.format(Leitos_Totais_Ocupados))"
      ],
      "execution_count": 60,
      "outputs": [
        {
          "output_type": "stream",
          "text": [
            "A quantidade total de leitos ocupados 40.9856\n"
          ],
          "name": "stdout"
        }
      ]
    },
    {
      "cell_type": "markdown",
      "metadata": {
        "id": "aloT7oKUy9Uv"
      },
      "source": [
        "### 6-I ->  Suponha que leitos de convênio e SUS sejam utilizados indistintamente para todos os clientes. Determine os novos números nessas condições."
      ]
    },
    {
      "cell_type": "code",
      "metadata": {
        "id": "Jpe7cm2ky8yt",
        "colab": {
          "base_uri": "https://localhost:8080/"
        },
        "outputId": "d19e9ee9-6e0d-46e0-87ec-0f3f888bf60f"
      },
      "source": [
        "Leitos"
      ],
      "execution_count": 61,
      "outputs": [
        {
          "output_type": "execute_result",
          "data": {
            "text/plain": [
              "45"
            ]
          },
          "metadata": {
            "tags": []
          },
          "execution_count": 61
        }
      ]
    },
    {
      "cell_type": "code",
      "metadata": {
        "id": "J4IVq0w8zCWu",
        "colab": {
          "base_uri": "https://localhost:8080/"
        },
        "outputId": "129c3c89-924c-46c2-f2b7-3bb2eaed3c56"
      },
      "source": [
        "trafego_total"
      ],
      "execution_count": 62,
      "outputs": [
        {
          "output_type": "execute_result",
          "data": {
            "text/plain": [
              "56.7"
            ]
          },
          "metadata": {
            "tags": []
          },
          "execution_count": 62
        }
      ]
    },
    {
      "cell_type": "code",
      "metadata": {
        "colab": {
          "base_uri": "https://localhost:8080/"
        },
        "id": "odjo4tux7dTb",
        "outputId": "41c6ff05-2b8a-4b26-f05f-a2019d1dee08"
      },
      "source": [
        "mu_Internados_dia"
      ],
      "execution_count": 63,
      "outputs": [
        {
          "output_type": "execute_result",
          "data": {
            "text/plain": [
              "4.05"
            ]
          },
          "metadata": {
            "tags": []
          },
          "execution_count": 63
        }
      ]
    },
    {
      "cell_type": "code",
      "metadata": {
        "colab": {
          "base_uri": "https://localhost:8080/"
        },
        "id": "nbpYwvV07tR7",
        "outputId": "8e6a0918-925e-4870-f614-79a9817fb7ba"
      },
      "source": [
        "Prob_Bloq_Sem_Divisao = erlang_B(trafego_total,Leitos)\n",
        "print('A probabilidade de bloqueio para a situação sem distinção é de {:.3f} / dia'.format(Prob_Bloq_Sem_Divisao*100))"
      ],
      "execution_count": 64,
      "outputs": [
        {
          "output_type": "stream",
          "text": [
            "A probabilidade de bloqueio para a situação sem distinção é de 25.075 / dia\n"
          ],
          "name": "stdout"
        }
      ]
    },
    {
      "cell_type": "code",
      "metadata": {
        "colab": {
          "base_uri": "https://localhost:8080/"
        },
        "id": "iEBeEEgW9QLD",
        "outputId": "e6412d2e-7e76-407f-fa37-a81d8f4260fe"
      },
      "source": [
        "(Prob_Bloq_Sem_Divisao - Prob_Bloq_Convenio)/Prob_Bloq_Convenio"
      ],
      "execution_count": 65,
      "outputs": [
        {
          "output_type": "execute_result",
          "data": {
            "text/plain": [
              "-0.16422459968259948"
            ]
          },
          "metadata": {
            "tags": []
          },
          "execution_count": 65
        }
      ]
    },
    {
      "cell_type": "code",
      "metadata": {
        "colab": {
          "base_uri": "https://localhost:8080/"
        },
        "id": "QQncXf2s9b6K",
        "outputId": "f2e11749-aa26-4c87-c51b-e366f18ed124"
      },
      "source": [
        "(Prob_Bloq_Sem_Divisao - Prob_Bloq_SUS)/Prob_Bloq_SUS"
      ],
      "execution_count": 66,
      "outputs": [
        {
          "output_type": "execute_result",
          "data": {
            "text/plain": [
              "-0.056323755793074984"
            ]
          },
          "metadata": {
            "tags": []
          },
          "execution_count": 66
        }
      ]
    },
    {
      "cell_type": "code",
      "metadata": {
        "colab": {
          "base_uri": "https://localhost:8080/"
        },
        "id": "2X66VqQJ8IWF",
        "outputId": "dd18ac23-9f1b-4794-ba02-801a7d0dad49"
      },
      "source": [
        "N_Intern_Sem_Divisao_dia = Prob_Bloq_Sem_Divisao*mu_Internados_dia\n",
        "print('A quantidade de pacientes não atendidos é de {:.4f} / dia'.format(N_Intern_Sem_Divisao_dia))"
      ],
      "execution_count": 67,
      "outputs": [
        {
          "output_type": "stream",
          "text": [
            "A quantidade de pacientes não atendidos é de 1.0155 / dia\n"
          ],
          "name": "stdout"
        }
      ]
    },
    {
      "cell_type": "code",
      "metadata": {
        "colab": {
          "base_uri": "https://localhost:8080/"
        },
        "id": "WC3I0C0J9gMb",
        "outputId": "db6ba0c1-8c2b-4626-aa92-0f8056c08093"
      },
      "source": [
        "(N_Intern_Sem_Divisao_dia-N_Intern_total_dia)/N_Intern_total_dia"
      ],
      "execution_count": 68,
      "outputs": [
        {
          "output_type": "execute_result",
          "data": {
            "text/plain": [
              "-0.09525860212286517"
            ]
          },
          "metadata": {
            "tags": []
          },
          "execution_count": 68
        }
      ]
    },
    {
      "cell_type": "code",
      "metadata": {
        "colab": {
          "base_uri": "https://localhost:8080/"
        },
        "id": "VZvVB64O8q0d",
        "outputId": "143fdca0-ed24-461c-d185-83e8febe70cc"
      },
      "source": [
        "Leitos_Sem_Divisao_Ocupados = trafego_total*(1-Prob_Bloq_Sem_Divisao)\n",
        "print('A quantidade total de leitos ocupados para situação sem divisão é de {:.4f}'.format(Leitos_Sem_Divisao_Ocupados))"
      ],
      "execution_count": 69,
      "outputs": [
        {
          "output_type": "stream",
          "text": [
            "A quantidade total de leitos ocupados para situação sem divisão é de 42.4825\n"
          ],
          "name": "stdout"
        }
      ]
    },
    {
      "cell_type": "code",
      "metadata": {
        "colab": {
          "base_uri": "https://localhost:8080/"
        },
        "id": "EVykdjOJ94e-",
        "outputId": "582d32dd-a6ea-4b92-b330-329b25ef4c71"
      },
      "source": [
        "(Leitos_Sem_Divisao_Ocupados-Leitos_Totais_Ocupados)/Leitos_Totais_Ocupados"
      ],
      "execution_count": 70,
      "outputs": [
        {
          "output_type": "execute_result",
          "data": {
            "text/plain": [
              "0.0365233249870431"
            ]
          },
          "metadata": {
            "tags": []
          },
          "execution_count": 70
        }
      ]
    },
    {
      "cell_type": "markdown",
      "metadata": {
        "id": "-AKGgIUezCxX"
      },
      "source": [
        "### 6-J -> O cenário, na realidade, é mais dramático do que este exercitado aqui, já que uma proporção dos leitos deve ser reservada para outras necessidades de internação. Suponha que essa proporção seja de 1/3. Refaça todos os itens de “a” a “i”."
      ]
    },
    {
      "cell_type": "code",
      "metadata": {
        "id": "LFGpHZsFzJlW",
        "colab": {
          "base_uri": "https://localhost:8080/"
        },
        "outputId": "47dc25d7-0d0b-4a2e-9741-19c3b4b240a0"
      },
      "source": [
        "Internados"
      ],
      "execution_count": 71,
      "outputs": [
        {
          "output_type": "execute_result",
          "data": {
            "text/plain": [
              "450.0"
            ]
          },
          "metadata": {
            "tags": []
          },
          "execution_count": 71
        }
      ]
    },
    {
      "cell_type": "code",
      "metadata": {
        "colab": {
          "base_uri": "https://localhost:8080/"
        },
        "id": "7zkYlPQfA7OV",
        "outputId": "9b826713-c6e3-4136-a203-170d9727b804"
      },
      "source": [
        "Leitos_COVID=Leitos*(2/3)\n",
        "Leitos_COVID_SUS=int(Leitos_COVID*taxa_SUS)\n",
        "Leitos_COVID_Conv=int(Leitos_COVID*taxa_Convenio)\n",
        "print('O número total de leitos  é {}, e destes, {} são para COVID, onde, {} são para pacientes do SUS e {} para pacientes de convênio.'.format(Leitos,Leitos_COVID,Leitos_COVID_SUS,Leitos_COVID_Conv))"
      ],
      "execution_count": 72,
      "outputs": [
        {
          "output_type": "stream",
          "text": [
            "O número total de leitos  é 45, e destes, 30.0 são para COVID, onde, 20 são para pacientes do SUS e 10 para pacientes de convênio.\n"
          ],
          "name": "stdout"
        }
      ]
    },
    {
      "cell_type": "markdown",
      "metadata": {
        "id": "z3FkVlQ8Bjmc"
      },
      "source": [
        "#### **6**-J-A"
      ]
    },
    {
      "cell_type": "code",
      "metadata": {
        "colab": {
          "base_uri": "https://localhost:8080/"
        },
        "id": "u_ADvR57Bnph",
        "outputId": "dff96965-98c7-4304-b0f5-682e1bc8e029"
      },
      "source": [
        "#Trafego total\n",
        "print('O tráfego total é de {} Erlang'.format(trafego_total))"
      ],
      "execution_count": 73,
      "outputs": [
        {
          "output_type": "stream",
          "text": [
            "O tráfego total é de 56.7 Erlang\n"
          ],
          "name": "stdout"
        }
      ]
    },
    {
      "cell_type": "code",
      "metadata": {
        "colab": {
          "base_uri": "https://localhost:8080/"
        },
        "id": "5nP4OmJQBt2z",
        "outputId": "fac36e45-b995-4bd4-f77b-c68411e4f11c"
      },
      "source": [
        "trafego_convenio"
      ],
      "execution_count": 74,
      "outputs": [
        {
          "output_type": "execute_result",
          "data": {
            "text/plain": [
              "18.9"
            ]
          },
          "metadata": {
            "tags": []
          },
          "execution_count": 74
        }
      ]
    },
    {
      "cell_type": "code",
      "metadata": {
        "colab": {
          "base_uri": "https://localhost:8080/"
        },
        "id": "1wSw2bmfB4xD",
        "outputId": "a75691bc-d90d-4c69-fe70-094ace5eb9c9"
      },
      "source": [
        "Prob_Bloq_Conv_COVID = erlang_B(trafego_convenio,Leitos_COVID_Conv)\n",
        "print('A probabilidade de bloqueio do convênio é de {:.2f} %'.format(Prob_Bloq_Conv_COVID*100))"
      ],
      "execution_count": 75,
      "outputs": [
        {
          "output_type": "stream",
          "text": [
            "A probabilidade de bloqueio do convênio é de 51.44 %\n"
          ],
          "name": "stdout"
        }
      ]
    },
    {
      "cell_type": "code",
      "metadata": {
        "colab": {
          "base_uri": "https://localhost:8080/"
        },
        "id": "SduX7IT0C49T",
        "outputId": "43c77a19-bd3c-4488-e7e2-0e6bfbb8e32f"
      },
      "source": [
        "(Prob_Bloq_Conv_COVID - Prob_Bloq_Convenio)/Prob_Bloq_Convenio"
      ],
      "execution_count": 76,
      "outputs": [
        {
          "output_type": "execute_result",
          "data": {
            "text/plain": [
              "0.7146717468908749"
            ]
          },
          "metadata": {
            "tags": []
          },
          "execution_count": 76
        }
      ]
    },
    {
      "cell_type": "markdown",
      "metadata": {
        "id": "y_MqAQ_5CJVr"
      },
      "source": [
        "#### **6**-J-*B*"
      ]
    },
    {
      "cell_type": "code",
      "metadata": {
        "colab": {
          "base_uri": "https://localhost:8080/"
        },
        "id": "dwujHK9ECKh6",
        "outputId": "f85dc072-6654-4dcc-92db-41c279c25839"
      },
      "source": [
        "trafego_SUS"
      ],
      "execution_count": 77,
      "outputs": [
        {
          "output_type": "execute_result",
          "data": {
            "text/plain": [
              "37.8"
            ]
          },
          "metadata": {
            "tags": []
          },
          "execution_count": 77
        }
      ]
    },
    {
      "cell_type": "code",
      "metadata": {
        "colab": {
          "base_uri": "https://localhost:8080/"
        },
        "id": "EWDr1HD_CNdq",
        "outputId": "203706a2-befb-4d0d-d35a-6c6763b64b36"
      },
      "source": [
        "Prob_Bloq_SUS_COVID = erlang_B(trafego_SUS,Leitos_COVID_SUS)\n",
        "print('A probabilidade de bloqueio do SUS é de {:.2f} %'.format(Prob_Bloq_SUS_COVID*100))"
      ],
      "execution_count": 78,
      "outputs": [
        {
          "output_type": "stream",
          "text": [
            "A probabilidade de bloqueio do SUS é de 49.56 %\n"
          ],
          "name": "stdout"
        }
      ]
    },
    {
      "cell_type": "code",
      "metadata": {
        "colab": {
          "base_uri": "https://localhost:8080/"
        },
        "id": "dGX2KRbfDBuJ",
        "outputId": "c72c4e02-a489-4b27-ecc6-1945097e40f3"
      },
      "source": [
        "(Prob_Bloq_SUS_COVID - Prob_Bloq_SUS)/Prob_Bloq_SUS"
      ],
      "execution_count": 79,
      "outputs": [
        {
          "output_type": "execute_result",
          "data": {
            "text/plain": [
              "0.8652791478237575"
            ]
          },
          "metadata": {
            "tags": []
          },
          "execution_count": 79
        }
      ]
    },
    {
      "cell_type": "markdown",
      "metadata": {
        "id": "NAWYlvCnCdoq"
      },
      "source": [
        "#### **6**-J-*C*"
      ]
    },
    {
      "cell_type": "code",
      "metadata": {
        "colab": {
          "base_uri": "https://localhost:8080/"
        },
        "id": "mxXBHLcSCdLs",
        "outputId": "8239b0a6-26ed-4bd5-aea9-8f92442f0397"
      },
      "source": [
        "N_Intern_Conv_COVID_dia = Prob_Bloq_Conv_COVID*taxa_Convenio*mu_Internados_dia #Onde a taxa de chegada é o número de internados / dia * taxa leitos convênio\n",
        "print('A quantidade de pacientes do convênio não internados é de {:.3f} / dia'.format(N_Intern_Conv_COVID_dia))"
      ],
      "execution_count": 80,
      "outputs": [
        {
          "output_type": "stream",
          "text": [
            "A quantidade de pacientes do convênio não internados é de 0.694 / dia\n"
          ],
          "name": "stdout"
        }
      ]
    },
    {
      "cell_type": "code",
      "metadata": {
        "colab": {
          "base_uri": "https://localhost:8080/"
        },
        "id": "lD6NMyAMDKKM",
        "outputId": "2c7a6a54-babf-47a2-b7ae-18255737e3fc"
      },
      "source": [
        "(N_Intern_Conv_COVID_dia-N_Intern_Convenio_dia)/N_Intern_Convenio_dia"
      ],
      "execution_count": 81,
      "outputs": [
        {
          "output_type": "execute_result",
          "data": {
            "text/plain": [
              "0.7146717468908749"
            ]
          },
          "metadata": {
            "tags": []
          },
          "execution_count": 81
        }
      ]
    },
    {
      "cell_type": "markdown",
      "metadata": {
        "id": "ksUD11FoCs7Q"
      },
      "source": [
        "#### **6**-J-*D*"
      ]
    },
    {
      "cell_type": "code",
      "metadata": {
        "colab": {
          "base_uri": "https://localhost:8080/"
        },
        "id": "2y68r2hDCtHL",
        "outputId": "6deb3c6b-24dd-40e5-abcf-ccd564af63c2"
      },
      "source": [
        "N_Intern_SUS_COVID_dia = Prob_Bloq_SUS_COVID*taxa_SUS*mu_Internados_dia #Onde a taxa de chegada é o número de internados / dia * taxa leitos convênio\n",
        "print('A quantidade de pacientes do SUS não internados é de {:.3f} / dia'.format(N_Intern_SUS_COVID_dia))"
      ],
      "execution_count": 82,
      "outputs": [
        {
          "output_type": "stream",
          "text": [
            "A quantidade de pacientes do SUS não internados é de 1.338 / dia\n"
          ],
          "name": "stdout"
        }
      ]
    },
    {
      "cell_type": "code",
      "metadata": {
        "colab": {
          "base_uri": "https://localhost:8080/"
        },
        "id": "63cS9p3IDT1M",
        "outputId": "359fd8c1-e5b9-4561-ccc7-936b9c31a48b"
      },
      "source": [
        "(N_Intern_SUS_COVID_dia-N_Intern_SUS_dia)/N_Intern_SUS_dia"
      ],
      "execution_count": 83,
      "outputs": [
        {
          "output_type": "execute_result",
          "data": {
            "text/plain": [
              "0.8652791478237573"
            ]
          },
          "metadata": {
            "tags": []
          },
          "execution_count": 83
        }
      ]
    },
    {
      "cell_type": "markdown",
      "metadata": {
        "id": "dWji4YpBDiZj"
      },
      "source": [
        "#### **6**-J-*E*"
      ]
    },
    {
      "cell_type": "code",
      "metadata": {
        "colab": {
          "base_uri": "https://localhost:8080/"
        },
        "id": "6T14KiU_DisT",
        "outputId": "dd77867c-7836-47b8-a368-25bdcea762c4"
      },
      "source": [
        "N_Intern_total_COVID_dia = N_Intern_Conv_COVID_dia + N_Intern_SUS_COVID_dia\n",
        "print('A quantidade total de pacientes não internados é de {:.3f} / dia'.format(N_Intern_total_COVID_dia))"
      ],
      "execution_count": 84,
      "outputs": [
        {
          "output_type": "stream",
          "text": [
            "A quantidade total de pacientes não internados é de 2.033 / dia\n"
          ],
          "name": "stdout"
        }
      ]
    },
    {
      "cell_type": "code",
      "metadata": {
        "colab": {
          "base_uri": "https://localhost:8080/"
        },
        "id": "4yi2LMs7DxQK",
        "outputId": "bb968b70-7919-40e5-81d0-ae7229dd440b"
      },
      "source": [
        "(N_Intern_total_COVID_dia-N_Intern_total_dia)/N_Intern_total_dia"
      ],
      "execution_count": 85,
      "outputs": [
        {
          "output_type": "execute_result",
          "data": {
            "text/plain": [
              "0.8109341047260898"
            ]
          },
          "metadata": {
            "tags": []
          },
          "execution_count": 85
        }
      ]
    },
    {
      "cell_type": "markdown",
      "metadata": {
        "id": "rs-A19-TD6Vu"
      },
      "source": [
        "#### **6**-J-*F*"
      ]
    },
    {
      "cell_type": "code",
      "metadata": {
        "colab": {
          "base_uri": "https://localhost:8080/"
        },
        "id": "XIQHDlJ5D7X6",
        "outputId": "63d2ce43-fb28-4adb-8baa-0a4c0f05f439"
      },
      "source": [
        "Leitos_Conv_COVID_Ocupados = trafego_convenio*(1-Prob_Bloq_Conv_COVID)\n",
        "print('A quantidade de leitos de convênio ocupados {:.2f}'.format(Leitos_Conv_COVID_Ocupados))"
      ],
      "execution_count": 86,
      "outputs": [
        {
          "output_type": "stream",
          "text": [
            "A quantidade de leitos de convênio ocupados 9.18\n"
          ],
          "name": "stdout"
        }
      ]
    },
    {
      "cell_type": "code",
      "metadata": {
        "colab": {
          "base_uri": "https://localhost:8080/"
        },
        "id": "8u1oFilHEIeh",
        "outputId": "ada5d174-2d50-4770-ad34-055cfc6b640e"
      },
      "source": [
        "(Leitos_Conv_COVID_Ocupados-Leitos_Conv_Ocupados)/Leitos_Conv_Ocupados"
      ],
      "execution_count": 87,
      "outputs": [
        {
          "output_type": "execute_result",
          "data": {
            "text/plain": [
              "-0.30631618112766745"
            ]
          },
          "metadata": {
            "tags": []
          },
          "execution_count": 87
        }
      ]
    },
    {
      "cell_type": "markdown",
      "metadata": {
        "id": "AwIx2GWXET63"
      },
      "source": [
        "#### **6**-J-*G*"
      ]
    },
    {
      "cell_type": "code",
      "metadata": {
        "colab": {
          "base_uri": "https://localhost:8080/"
        },
        "id": "meb_Fdc6EUGW",
        "outputId": "61955e5d-97ad-4c91-c085-6d625fd66f09"
      },
      "source": [
        "Leitos_SUS_COVID_Ocupados = trafego_SUS*(1-Prob_Bloq_SUS_COVID)\n",
        "print('A quantidade de leitos dos SUS ocupados {:.2f}'.format(Leitos_SUS_COVID_Ocupados))"
      ],
      "execution_count": 88,
      "outputs": [
        {
          "output_type": "stream",
          "text": [
            "A quantidade de leitos dos SUS ocupados 19.07\n"
          ],
          "name": "stdout"
        }
      ]
    },
    {
      "cell_type": "code",
      "metadata": {
        "colab": {
          "base_uri": "https://localhost:8080/"
        },
        "id": "0huxzGxBEV-r",
        "outputId": "aa29dc6b-5070-4f2a-8d49-0dfec81b7ea9"
      },
      "source": [
        "(Leitos_SUS_COVID_Ocupados-Leitos_SUS_Ocupados)/Leitos_SUS_Ocupados"
      ],
      "execution_count": 89,
      "outputs": [
        {
          "output_type": "execute_result",
          "data": {
            "text/plain": [
              "-0.3131175503832487"
            ]
          },
          "metadata": {
            "tags": []
          },
          "execution_count": 89
        }
      ]
    },
    {
      "cell_type": "markdown",
      "metadata": {
        "id": "Qespc6i9EVNG"
      },
      "source": [
        "#### **6**-J-*H*"
      ]
    },
    {
      "cell_type": "code",
      "metadata": {
        "colab": {
          "base_uri": "https://localhost:8080/"
        },
        "id": "lm4y24bDEmwQ",
        "outputId": "50325bb9-cafb-4697-c025-4bf2e489281a"
      },
      "source": [
        "Leitos_Totais_COVID_Ocupados = Leitos_Conv_COVID_Ocupados + Leitos_SUS_COVID_Ocupados\n",
        "print('A quantidade total de leitos ocupados {:.4f}'.format(Leitos_Totais_COVID_Ocupados))"
      ],
      "execution_count": 90,
      "outputs": [
        {
          "output_type": "stream",
          "text": [
            "A quantidade total de leitos ocupados 28.2423\n"
          ],
          "name": "stdout"
        }
      ]
    },
    {
      "cell_type": "code",
      "metadata": {
        "colab": {
          "base_uri": "https://localhost:8080/"
        },
        "id": "7H3bvpubEo_F",
        "outputId": "de7a839b-1f33-4eea-a916-9f0d893d3851"
      },
      "source": [
        "(Leitos_Totais_COVID_Ocupados-Leitos_Totais_Ocupados)/Leitos_Totais_Ocupados"
      ],
      "execution_count": 91,
      "outputs": [
        {
          "output_type": "execute_result",
          "data": {
            "text/plain": [
              "-0.31092215495442793"
            ]
          },
          "metadata": {
            "tags": []
          },
          "execution_count": 91
        }
      ]
    },
    {
      "cell_type": "markdown",
      "metadata": {
        "id": "PxDY2NiJE5nh"
      },
      "source": [
        "#### **6**-J-*I*"
      ]
    },
    {
      "cell_type": "code",
      "metadata": {
        "colab": {
          "base_uri": "https://localhost:8080/"
        },
        "id": "R8ptYOkDFZeU",
        "outputId": "d8271da9-aeb9-4481-de27-1445469e42b5"
      },
      "source": [
        "Leitos_COVID = int(Leitos_COVID)\n",
        "Leitos_COVID"
      ],
      "execution_count": 92,
      "outputs": [
        {
          "output_type": "execute_result",
          "data": {
            "text/plain": [
              "30"
            ]
          },
          "metadata": {
            "tags": []
          },
          "execution_count": 92
        }
      ]
    },
    {
      "cell_type": "code",
      "metadata": {
        "colab": {
          "base_uri": "https://localhost:8080/"
        },
        "id": "K4NI8KKyE52a",
        "outputId": "676fc809-6866-42c4-f7d7-a38de58e779f"
      },
      "source": [
        "#A\n",
        "Prob_Bloq_Sem_Divisao_COVID = erlang_B(trafego_total,Leitos_COVID)\n",
        "print('A probabilidade de bloqueio para a situação sem distinção é de {:.3f} / dia'.format(Prob_Bloq_Sem_Divisao_COVID*100))"
      ],
      "execution_count": 94,
      "outputs": [
        {
          "output_type": "stream",
          "text": [
            "A probabilidade de bloqueio para a situação sem distinção é de 48.827 / dia\n"
          ],
          "name": "stdout"
        }
      ]
    },
    {
      "cell_type": "code",
      "metadata": {
        "colab": {
          "base_uri": "https://localhost:8080/"
        },
        "id": "hNEat7raF3US",
        "outputId": "29a7ff6c-71b6-4df9-95fa-930b3c2623b1"
      },
      "source": [
        "Prob_Bloq_Sem_Divisao"
      ],
      "execution_count": 95,
      "outputs": [
        {
          "output_type": "execute_result",
          "data": {
            "text/plain": [
              "0.2507488305003976"
            ]
          },
          "metadata": {
            "tags": []
          },
          "execution_count": 95
        }
      ]
    },
    {
      "cell_type": "code",
      "metadata": {
        "colab": {
          "base_uri": "https://localhost:8080/"
        },
        "id": "qAOsq6lxFU87",
        "outputId": "be4d1164-ceac-4317-a299-eb784e6c9ec2"
      },
      "source": [
        "(Prob_Bloq_Sem_Divisao_COVID-Prob_Bloq_Sem_Divisao)/Prob_Bloq_Sem_Divisao"
      ],
      "execution_count": 96,
      "outputs": [
        {
          "output_type": "execute_result",
          "data": {
            "text/plain": [
              "0.9472597478850996"
            ]
          },
          "metadata": {
            "tags": []
          },
          "execution_count": 96
        }
      ]
    },
    {
      "cell_type": "code",
      "metadata": {
        "colab": {
          "base_uri": "https://localhost:8080/"
        },
        "id": "H7gs5ZXWGFtL",
        "outputId": "25c50848-eed7-4db1-f0c2-5c97738c60e5"
      },
      "source": [
        "#B\n",
        "N_Intern_Sem_Divisao_dia_COVID = Prob_Bloq_Sem_Divisao_COVID*mu_Internados_dia\n",
        "print('A quantidade de pacientes não atendidos é de {:.4f} / dia'.format(N_Intern_Sem_Divisao_dia))"
      ],
      "execution_count": 97,
      "outputs": [
        {
          "output_type": "stream",
          "text": [
            "A quantidade de pacientes não atendidos é de 1.0155 / dia\n"
          ],
          "name": "stdout"
        }
      ]
    },
    {
      "cell_type": "code",
      "metadata": {
        "colab": {
          "base_uri": "https://localhost:8080/"
        },
        "id": "zoAQ_cRCGs0T",
        "outputId": "6c25aac7-aa54-445e-8144-7528ce0c5ae2"
      },
      "source": [
        "(N_Intern_Sem_Divisao_dia_COVID-N_Intern_Sem_Divisao_dia)/N_Intern_Sem_Divisao_dia"
      ],
      "execution_count": 98,
      "outputs": [
        {
          "output_type": "execute_result",
          "data": {
            "text/plain": [
              "0.9472597478850994"
            ]
          },
          "metadata": {
            "tags": []
          },
          "execution_count": 98
        }
      ]
    },
    {
      "cell_type": "code",
      "metadata": {
        "colab": {
          "base_uri": "https://localhost:8080/"
        },
        "id": "iOHjk1eyG1hb",
        "outputId": "78d1de97-8820-4e5e-c1f1-c4677eb24412"
      },
      "source": [
        "Leitos_Sem_Divisao_Ocupados_COVID = trafego_total*(1-Prob_Bloq_Sem_Divisao_COVID)\n",
        "print('A quantidade total de leitos ocupados para situação sem divisão é de {:.4f}'.format(Leitos_Sem_Divisao_Ocupados_COVID))"
      ],
      "execution_count": 99,
      "outputs": [
        {
          "output_type": "stream",
          "text": [
            "A quantidade total de leitos ocupados para situação sem divisão é de 29.0149\n"
          ],
          "name": "stdout"
        }
      ]
    },
    {
      "cell_type": "code",
      "metadata": {
        "colab": {
          "base_uri": "https://localhost:8080/"
        },
        "id": "NJ_rA821HAHD",
        "outputId": "63bff2ee-86a4-4345-e971-0761a60516b7"
      },
      "source": [
        "(Leitos_Sem_Divisao_Ocupados_COVID-Leitos_Sem_Divisao_Ocupados)/Leitos_Sem_Divisao_Ocupados"
      ],
      "execution_count": 100,
      "outputs": [
        {
          "output_type": "execute_result",
          "data": {
            "text/plain": [
              "-0.3170155531701393"
            ]
          },
          "metadata": {
            "tags": []
          },
          "execution_count": 100
        }
      ]
    },
    {
      "cell_type": "markdown",
      "metadata": {
        "id": "2S29Zgx7G-xq"
      },
      "source": [
        "FIM"
      ]
    }
  ]
}